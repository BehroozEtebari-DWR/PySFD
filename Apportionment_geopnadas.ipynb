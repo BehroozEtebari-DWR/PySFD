{
 "cells": [
  {
   "cell_type": "code",
   "execution_count": 1,
   "metadata": {},
   "outputs": [],
   "source": [
    "import geopandas as gpd\n",
    "import numpy as np\n",
    "from shapely.geometry import LineString\n",
    "from shapely.ops import transform"
   ]
  },
  {
   "cell_type": "code",
   "execution_count": 9,
   "metadata": {},
   "outputs": [],
   "source": [
    "def prep_reach_dist(wel_lon, wel_lat, stream_sf, reach_id, stream_pt_spacing, nseed=1):\n",
    "        \"\"\"\n",
    "    Calculate the distance from a well to each reach within a stream network.\n",
    "    This function splits a polyline stream network into evenly spaced points and calculates the distance\n",
    "    from each of those points to a well.\n",
    "\n",
    "    Parameters:\n",
    "        wel_lon (float): Longitude of the well.\n",
    "        wel_lat (float): Latitude of the well.\n",
    "        stream_sf (GeoDataFrame): GeoDataFrame containing stream lines.\n",
    "        reach_id (str): Column name in `stream_sf` for the unique identifier of each stream line segment.\n",
    "        stream_pt_spacing (float): Distance between points used for sampling each stream reach.\n",
    "        nseed (int): Seed for random number generator (used for point sampling).\n",
    "\n",
    "    Returns:\n",
    "        DataFrame: A DataFrame with columns ['reach', 'dist', 'lat', 'lon'].\n",
    "    \"\"\"\n",
    "    np.random.seed(nseed)\n",
    "    \n",
    "    # Helper function to sample points or create midpoint for short geometries\n",
    "    def sample_stream_points(geometry, spacing):\n",
    "        if geometry.is_empty or not isinstance(geometry, LineString):\n",
    "            return []  # Skip invalid or empty geometries\n",
    "        length = geometry.length\n",
    "        if length < spacing:  # For short lines, add midpoint\n",
    "            return [geometry.interpolate(0.5 * length)]\n",
    "        num_points = int(np.ceil(length / spacing))\n",
    "        return [geometry.interpolate(i * spacing) for i in range(num_points)]\n",
    "    \n",
    "    # Generate points and ensure all ReachCodes are included\n",
    "    points = []\n",
    "    for _, row in stream_sf.iterrows():\n",
    "        reach_points = sample_stream_points(row.geometry, stream_pt_spacing)\n",
    "        for point in reach_points:\n",
    "            points.append({\n",
    "                'reach': row[reach_id],\n",
    "                'lon': point.x,\n",
    "                'lat': point.y\n",
    "            })\n",
    "        # Ensure at least one record for every ReachCode, even if no points are generated\n",
    "        if not reach_points:\n",
    "            points.append({\n",
    "                'reach': row[reach_id],\n",
    "                'lon': row.geometry.centroid.x,\n",
    "                'lat': row.geometry.centroid.y\n",
    "            })\n",
    "    \n",
    "    # Convert to GeoDataFrame and calculate distances\n",
    "    points_gdf = gpd.GeoDataFrame(points, geometry=gpd.points_from_xy([p['lon'] for p in points], [p['lat'] for p in points]))\n",
    "    points_gdf['dist'] = np.sqrt((points_gdf['lon'] - wel_lon)**2 + (points_gdf['lat'] - wel_lat)**2)\n",
    "    \n",
    "    return points_gdf[['reach', 'dist', 'lat', 'lon']]"
   ]
  },
  {
   "cell_type": "code",
   "execution_count": 11,
   "metadata": {},
   "outputs": [],
   "source": [
    "stream_sf = gpd.read_file('C:/Users/betebari/Documents/_Jupyter/StrmDepletr/shapefiles/MWC_NHD_flowlines_utm.shp')"
   ]
  },
  {
   "cell_type": "code",
   "execution_count": 21,
   "metadata": {},
   "outputs": [
    {
     "name": "stdout",
     "output_type": "stream",
     "text": [
      "1021 out of 1021\n",
      "            reach          dist           lat            lon\n",
      "0  18010110002256  16046.044883  4.262655e+06  536863.269445\n",
      "1  18010110002256  16045.388187  4.262659e+06  536865.188138\n",
      "2  18010110002256  16044.733023  4.262664e+06  536867.106830\n",
      "3  18010110002256  16044.079391  4.262668e+06  536869.025522\n",
      "4  18010110002256  16043.427289  4.262673e+06  536870.944215\n"
     ]
    }
   ],
   "source": [
    "result = prep_reach_dist(\n",
    "    wel_lon=522984,\n",
    "    wel_lat=4270707,\n",
    "    stream_sf=stream_sf,\n",
    "    reach_id='ReachCode', \n",
    "    stream_pt_spacing=5\n",
    ")\n",
    "\n",
    "# Verify all ReachCodes are in the result\n",
    "print(result['reach'].nunique(), \"out of\", stream_sf['ReachCode'].nunique())\n",
    "print(result.head())"
   ]
  },
  {
   "cell_type": "code",
   "execution_count": 15,
   "metadata": {},
   "outputs": [
    {
     "name": "stdout",
     "output_type": "stream",
     "text": [
      "0    18010110002256\n",
      "1    18010110003814\n",
      "2    18010110001108\n",
      "3    18010110001336\n",
      "4    18010110000050\n",
      "Name: ReachCode, dtype: object\n"
     ]
    }
   ],
   "source": [
    "print(stream_sf['ReachCode'].head())"
   ]
  },
  {
   "cell_type": "code",
   "execution_count": 17,
   "metadata": {},
   "outputs": [
    {
     "name": "stdout",
     "output_type": "stream",
     "text": [
      "['LineString']\n"
     ]
    }
   ],
   "source": [
    "print(stream_sf.geom_type.unique())"
   ]
  },
  {
   "cell_type": "code",
   "execution_count": 23,
   "metadata": {},
   "outputs": [
    {
     "name": "stdout",
     "output_type": "stream",
     "text": [
      "['18010110002256' '18010110003814' '18010110001108' ... '18050002006234'\n",
      " '18050002007346' '18050002000217']\n",
      "reach\n",
      "18010110000463    2672\n",
      "18010110000070    1800\n",
      "18010110000035    1747\n",
      "18010110001254    1631\n",
      "18010110000468    1578\n",
      "                  ... \n",
      "18010110004712       5\n",
      "18050002006327       3\n",
      "18050002008325       3\n",
      "18010110010891       2\n",
      "18010110001205       1\n",
      "Name: count, Length: 1021, dtype: int64\n",
      "             reach         dist           lat            lon\n",
      "57  18010110003814  2963.900973  4.271294e+06  525889.124096\n",
      "58  18010110003814  2962.024343  4.271299e+06  525886.363042\n",
      "59  18010110003814  2960.154969  4.271303e+06  525883.601988\n",
      "60  18010110003814  2958.292865  4.271307e+06  525880.840934\n",
      "61  18010110003814  2956.438044  4.271311e+06  525878.079879\n"
     ]
    }
   ],
   "source": [
    "# Display the unique ReachCodes present in the result\n",
    "print(result['reach'].unique())\n",
    "\n",
    "# Check how many rows belong to each ReachCode\n",
    "print(result['reach'].value_counts())\n",
    "\n",
    "# Filter results for a specific ReachCode (e.g., 18010110003814)\n",
    "print(result[result['reach'] == '18010110003814'].head())"
   ]
  },
  {
   "cell_type": "code",
   "execution_count": 31,
   "metadata": {},
   "outputs": [
    {
     "name": "stdout",
     "output_type": "stream",
     "text": [
      "                reach          dist           lat            lon\n",
      "34025  18010110000020  16284.443624  4.260519e+06  510280.087791\n",
      "73172  18010110000020  14660.820938  4.260390e+06  512568.065562\n",
      "73173  18010110000020  14665.813249  4.260386e+06  512564.713821\n",
      "73174  18010110000020  14670.805566  4.260382e+06  512561.362080\n",
      "73175  18010110000020  14675.797887  4.260379e+06  512558.010339\n",
      "...               ...           ...           ...            ...\n",
      "73091  18010110000020  14271.614419  4.260660e+06  512848.468019\n",
      "73083  18010110000020  14232.304880  4.260688e+06  512875.434685\n",
      "73092  18010110000020  14276.134593  4.260658e+06  512843.889436\n",
      "73094  18010110000020  14283.839474  4.260657e+06  512833.929444\n",
      "73095  18010110000020  14287.692982  4.260656e+06  512828.949448\n",
      "\n",
      "[100 rows x 4 columns]\n"
     ]
    }
   ],
   "source": [
    "result_sorted = result.sort_values(by='reach')\n",
    "print(result_sorted.head(100))"
   ]
  },
  {
   "cell_type": "code",
   "execution_count": 27,
   "metadata": {},
   "outputs": [],
   "source": [
    "result.to_csv('stream_distances.csv', index=False)"
   ]
  },
  {
   "cell_type": "code",
   "execution_count": 29,
   "metadata": {},
   "outputs": [
    {
     "name": "stdout",
     "output_type": "stream",
     "text": [
      "reach\n",
      "18010110000020    990\n",
      "18010110000021    715\n",
      "18010110000022     11\n",
      "18010110000032    526\n",
      "18010110000033    471\n",
      "                 ... \n",
      "18050002008362    107\n",
      "18050002008364    170\n",
      "18050002008365    115\n",
      "18050002008379     21\n",
      "18050002008472     95\n",
      "Length: 1021, dtype: int64\n"
     ]
    }
   ],
   "source": [
    "grouped = result.groupby('reach').size()\n",
    "print(grouped)"
   ]
  },
  {
   "cell_type": "code",
   "execution_count": null,
   "metadata": {},
   "outputs": [],
   "source": []
  }
 ],
 "metadata": {
  "kernelspec": {
   "display_name": "Python [conda env:base] *",
   "language": "python",
   "name": "conda-base-py"
  },
  "language_info": {
   "codemirror_mode": {
    "name": "ipython",
    "version": 3
   },
   "file_extension": ".py",
   "mimetype": "text/x-python",
   "name": "python",
   "nbconvert_exporter": "python",
   "pygments_lexer": "ipython3",
   "version": "3.12.7"
  }
 },
 "nbformat": 4,
 "nbformat_minor": 4
}
