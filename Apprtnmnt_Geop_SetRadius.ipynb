{
 "cells": [
  {
   "cell_type": "code",
   "execution_count": 1,
   "metadata": {},
   "outputs": [],
   "source": [
    "import geopandas as gpd\n",
    "import numpy as np\n",
    "from shapely.geometry import LineString\n",
    "from shapely.ops import transform"
   ]
  },
  {
   "cell_type": "code",
   "execution_count": 12,
   "metadata": {},
   "outputs": [],
   "source": [
    "from shapely.geometry import Point\n",
    "import geopandas as gpd\n",
    "import numpy as np\n",
    "from shapely.geometry import LineString\n",
    "\n",
    "def prep_reach_dist_with_radius(wel_lon, wel_lat, stream_sf, reach_id, stream_pt_spacing, radius, nseed=1):\n",
    "    \"\"\"\n",
    "    Calculate distances only for stream reaches within a specified radius of influence.\n",
    "    \"\"\"\n",
    "    np.random.seed(nseed)\n",
    "    \n",
    "    # Create a point for the well location\n",
    "    well_point = Point(wel_lon, wel_lat)\n",
    "    \n",
    "    # Filter the stream reaches within the radius of influence\n",
    "    stream_sf = stream_sf[stream_sf.geometry.distance(well_point) <= radius]\n",
    "    print(f\"Number of reaches within radius: {len(stream_sf)}\")\n",
    "\n",
    "    # Helper function to sample points or create midpoint for short geometries\n",
    "    def sample_stream_points(geometry, spacing):\n",
    "        if geometry.is_empty or not isinstance(geometry, LineString):\n",
    "            return []  # Skip invalid or empty geometries\n",
    "        length = geometry.length\n",
    "        if length < spacing:  # For short lines, add midpoint\n",
    "            return [geometry.interpolate(0.5 * length)]\n",
    "        num_points = int(np.ceil(length / spacing))\n",
    "        return [geometry.interpolate(i * spacing) for i in range(num_points)]\n",
    "    \n",
    "    # Generate points for filtered stream reaches\n",
    "    points = []\n",
    "    for _, row in stream_sf.iterrows():\n",
    "        reach_points = sample_stream_points(row.geometry, stream_pt_spacing)\n",
    "        for point in reach_points:\n",
    "            points.append({\n",
    "                'reach': row[reach_id],\n",
    "                'lon': point.x,\n",
    "                'lat': point.y\n",
    "            })\n",
    "        # Ensure at least one record for every ReachCode, even if no points are generated\n",
    "        if not reach_points:\n",
    "            points.append({\n",
    "                'reach': row[reach_id],\n",
    "                'lon': row.geometry.centroid.x,\n",
    "                'lat': row.geometry.centroid.y\n",
    "            })\n",
    "    \n",
    "    # Convert to GeoDataFrame and calculate distances\n",
    "    points_gdf = gpd.GeoDataFrame(points, geometry=gpd.points_from_xy([p['lon'] for p in points], [p['lat'] for p in points]))\n",
    "    points_gdf['dist'] = np.sqrt((points_gdf['lon'] - wel_lon)**2 + (points_gdf['lat'] - wel_lat)**2)\n",
    "    \n",
    "    return points_gdf[['reach', 'dist', 'lat', 'lon']]"
   ]
  },
  {
   "cell_type": "code",
   "execution_count": 14,
   "metadata": {},
   "outputs": [],
   "source": [
    "stream_sf = gpd.read_file('C:/Users/betebari/Documents/_Jupyter/StrmDepletr/shapefiles/MWC_NHD_flowlines_utm.shp')"
   ]
  },
  {
   "cell_type": "code",
   "execution_count": 18,
   "metadata": {},
   "outputs": [
    {
     "name": "stdout",
     "output_type": "stream",
     "text": [
      "Number of reaches within radius: 13\n",
      "            reach        dist           lat            lon\n",
      "0  18010110010890  417.233688  4.270436e+06  522666.802201\n",
      "1  18010110010890  419.328316  4.270438e+06  522662.271767\n",
      "2  18010110010890  421.471854  4.270440e+06  522657.741332\n",
      "3  18010110010890  423.663558  4.270442e+06  522653.210898\n",
      "4  18010110010890  425.902685  4.270444e+06  522648.680463\n",
      "Number of unique reaches processed: 7\n"
     ]
    }
   ],
   "source": [
    "# Define inputs\n",
    "wel_lon = 522984\n",
    "wel_lat = 4270707\n",
    "radius = 700  # Radius of influence in the same units as the CRS (e.g., meters for UTM)\n",
    "\n",
    "# Run the function\n",
    "result = prep_reach_dist_with_radius(\n",
    "    wel_lon=wel_lon,\n",
    "    wel_lat=wel_lat,\n",
    "    stream_sf=stream_sf,\n",
    "    reach_id='ReachCode',\n",
    "    stream_pt_spacing=5,\n",
    "    radius=radius\n",
    ")\n",
    "\n",
    "# Verify results\n",
    "print(result.head())\n",
    "print(f\"Number of unique reaches processed: {result['reach'].nunique()}\")"
   ]
  },
  {
   "cell_type": "code",
   "execution_count": 30,
   "metadata": {},
   "outputs": [
    {
     "name": "stdout",
     "output_type": "stream",
     "text": [
      "reach\n",
      "18010110000649    398\n",
      "18010110003813     32\n",
      "18010110003819    193\n",
      "18010110003820     10\n",
      "18010110003822     69\n",
      "18010110007796    145\n",
      "18010110010890    103\n",
      "dtype: int64\n"
     ]
    }
   ],
   "source": [
    "grouped = result.groupby('reach').size()\n",
    "print(grouped)"
   ]
  },
  {
   "cell_type": "code",
   "execution_count": 28,
   "metadata": {},
   "outputs": [],
   "source": [
    "result.to_csv('stream_distances_radius700.csv', index=False)"
   ]
  },
  {
   "cell_type": "code",
   "execution_count": null,
   "metadata": {},
   "outputs": [],
   "source": []
  }
 ],
 "metadata": {
  "kernelspec": {
   "display_name": "Python [conda env:base] *",
   "language": "python",
   "name": "conda-base-py"
  },
  "language_info": {
   "codemirror_mode": {
    "name": "ipython",
    "version": 3
   },
   "file_extension": ".py",
   "mimetype": "text/x-python",
   "name": "python",
   "nbconvert_exporter": "python",
   "pygments_lexer": "ipython3",
   "version": "3.12.7"
  }
 },
 "nbformat": 4,
 "nbformat_minor": 4
}
